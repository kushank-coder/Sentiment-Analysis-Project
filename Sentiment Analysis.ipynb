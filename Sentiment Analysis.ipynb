{
 "cells": [
  {
   "cell_type": "code",
   "execution_count": 62,
   "id": "5a9c47cd",
   "metadata": {},
   "outputs": [],
   "source": [
    "import pandas as pd\n",
    "import numpy as np\n",
    "import seaborn as sns\n",
    "import re"
   ]
  },
  {
   "cell_type": "code",
   "execution_count": 18,
   "id": "5f2be727",
   "metadata": {},
   "outputs": [],
   "source": [
    "train_data = pd.read_csv(\"F:/Machine Learning/Data Science Projects/Sentiment_Analysis/archive/train.csv\",encoding='latin-1')\n",
    "test_data = pd.read_csv(\"F:/Machine Learning/Data Science Projects/Sentiment_Analysis/archive/test.csv\",encoding='latin-1') "
   ]
  },
  {
   "cell_type": "code",
   "execution_count": 19,
   "id": "b2ee9b6d",
   "metadata": {},
   "outputs": [
    {
     "data": {
      "text/html": [
       "<div>\n",
       "<style scoped>\n",
       "    .dataframe tbody tr th:only-of-type {\n",
       "        vertical-align: middle;\n",
       "    }\n",
       "\n",
       "    .dataframe tbody tr th {\n",
       "        vertical-align: top;\n",
       "    }\n",
       "\n",
       "    .dataframe thead th {\n",
       "        text-align: right;\n",
       "    }\n",
       "</style>\n",
       "<table border=\"1\" class=\"dataframe\">\n",
       "  <thead>\n",
       "    <tr style=\"text-align: right;\">\n",
       "      <th></th>\n",
       "      <th>textID</th>\n",
       "      <th>text</th>\n",
       "      <th>selected_text</th>\n",
       "      <th>sentiment</th>\n",
       "      <th>Time of Tweet</th>\n",
       "      <th>Age of User</th>\n",
       "      <th>Country</th>\n",
       "      <th>Population -2020</th>\n",
       "      <th>Land Area (Km²)</th>\n",
       "      <th>Density (P/Km²)</th>\n",
       "    </tr>\n",
       "  </thead>\n",
       "  <tbody>\n",
       "    <tr>\n",
       "      <th>0</th>\n",
       "      <td>cb774db0d1</td>\n",
       "      <td>I`d have responded, if I were going</td>\n",
       "      <td>I`d have responded, if I were going</td>\n",
       "      <td>neutral</td>\n",
       "      <td>morning</td>\n",
       "      <td>0-20</td>\n",
       "      <td>Afghanistan</td>\n",
       "      <td>38928346</td>\n",
       "      <td>652860.0</td>\n",
       "      <td>60</td>\n",
       "    </tr>\n",
       "    <tr>\n",
       "      <th>1</th>\n",
       "      <td>549e992a42</td>\n",
       "      <td>Sooo SAD I will miss you here in San Diego!!!</td>\n",
       "      <td>Sooo SAD</td>\n",
       "      <td>negative</td>\n",
       "      <td>noon</td>\n",
       "      <td>21-30</td>\n",
       "      <td>Albania</td>\n",
       "      <td>2877797</td>\n",
       "      <td>27400.0</td>\n",
       "      <td>105</td>\n",
       "    </tr>\n",
       "  </tbody>\n",
       "</table>\n",
       "</div>"
      ],
      "text/plain": [
       "       textID                                            text  \\\n",
       "0  cb774db0d1             I`d have responded, if I were going   \n",
       "1  549e992a42   Sooo SAD I will miss you here in San Diego!!!   \n",
       "\n",
       "                         selected_text sentiment Time of Tweet Age of User  \\\n",
       "0  I`d have responded, if I were going   neutral       morning        0-20   \n",
       "1                             Sooo SAD  negative          noon       21-30   \n",
       "\n",
       "       Country  Population -2020  Land Area (Km²)  Density (P/Km²)  \n",
       "0  Afghanistan          38928346         652860.0               60  \n",
       "1      Albania           2877797          27400.0              105  "
      ]
     },
     "execution_count": 19,
     "metadata": {},
     "output_type": "execute_result"
    }
   ],
   "source": [
    "train_data.head(2)"
   ]
  },
  {
   "cell_type": "code",
   "execution_count": 20,
   "id": "bb8562c5",
   "metadata": {},
   "outputs": [
    {
     "data": {
      "text/html": [
       "<div>\n",
       "<style scoped>\n",
       "    .dataframe tbody tr th:only-of-type {\n",
       "        vertical-align: middle;\n",
       "    }\n",
       "\n",
       "    .dataframe tbody tr th {\n",
       "        vertical-align: top;\n",
       "    }\n",
       "\n",
       "    .dataframe thead th {\n",
       "        text-align: right;\n",
       "    }\n",
       "</style>\n",
       "<table border=\"1\" class=\"dataframe\">\n",
       "  <thead>\n",
       "    <tr style=\"text-align: right;\">\n",
       "      <th></th>\n",
       "      <th>textID</th>\n",
       "      <th>text</th>\n",
       "      <th>sentiment</th>\n",
       "      <th>Time of Tweet</th>\n",
       "      <th>Age of User</th>\n",
       "      <th>Country</th>\n",
       "      <th>Population -2020</th>\n",
       "      <th>Land Area (Km²)</th>\n",
       "      <th>Density (P/Km²)</th>\n",
       "    </tr>\n",
       "  </thead>\n",
       "  <tbody>\n",
       "    <tr>\n",
       "      <th>0</th>\n",
       "      <td>f87dea47db</td>\n",
       "      <td>Last session of the day  http://twitpic.com/67ezh</td>\n",
       "      <td>neutral</td>\n",
       "      <td>morning</td>\n",
       "      <td>0-20</td>\n",
       "      <td>Afghanistan</td>\n",
       "      <td>38928346.0</td>\n",
       "      <td>652860.0</td>\n",
       "      <td>60.0</td>\n",
       "    </tr>\n",
       "    <tr>\n",
       "      <th>1</th>\n",
       "      <td>96d74cb729</td>\n",
       "      <td>Shanghai is also really exciting (precisely -...</td>\n",
       "      <td>positive</td>\n",
       "      <td>noon</td>\n",
       "      <td>21-30</td>\n",
       "      <td>Albania</td>\n",
       "      <td>2877797.0</td>\n",
       "      <td>27400.0</td>\n",
       "      <td>105.0</td>\n",
       "    </tr>\n",
       "  </tbody>\n",
       "</table>\n",
       "</div>"
      ],
      "text/plain": [
       "       textID                                               text sentiment  \\\n",
       "0  f87dea47db  Last session of the day  http://twitpic.com/67ezh   neutral   \n",
       "1  96d74cb729   Shanghai is also really exciting (precisely -...  positive   \n",
       "\n",
       "  Time of Tweet Age of User      Country  Population -2020  Land Area (Km²)  \\\n",
       "0       morning        0-20  Afghanistan        38928346.0         652860.0   \n",
       "1          noon       21-30      Albania         2877797.0          27400.0   \n",
       "\n",
       "   Density (P/Km²)  \n",
       "0             60.0  \n",
       "1            105.0  "
      ]
     },
     "execution_count": 20,
     "metadata": {},
     "output_type": "execute_result"
    }
   ],
   "source": [
    "# I believe test data y is given, we need to check our accuracy wrt to the data\n",
    "test_data_data.head(2)"
   ]
  },
  {
   "cell_type": "code",
   "execution_count": 35,
   "id": "3009af39",
   "metadata": {},
   "outputs": [],
   "source": [
    "X_train = train_data.drop([\"sentiment\"],axis=1)\n",
    "y_train = train_data[\"sentiment\"]"
   ]
  },
  {
   "cell_type": "code",
   "execution_count": 38,
   "id": "7b517668",
   "metadata": {},
   "outputs": [],
   "source": [
    "X_test = test_data.drop([\"sentiment\"],axis=1)\n",
    "y_test = test_data[\"sentiment\"]"
   ]
  },
  {
   "cell_type": "code",
   "execution_count": 39,
   "id": "c728503c",
   "metadata": {},
   "outputs": [
    {
     "data": {
      "text/plain": [
       "array(['neutral', 'negative', 'positive'], dtype=object)"
      ]
     },
     "execution_count": 39,
     "metadata": {},
     "output_type": "execute_result"
    }
   ],
   "source": [
    "y_train.unique()"
   ]
  },
  {
   "cell_type": "code",
   "execution_count": 41,
   "id": "10a498e3",
   "metadata": {},
   "outputs": [
    {
     "data": {
      "text/plain": [
       "neutral     1430\n",
       "positive    1103\n",
       "negative    1001\n",
       "Name: sentiment, dtype: int64"
      ]
     },
     "execution_count": 41,
     "metadata": {},
     "output_type": "execute_result"
    }
   ],
   "source": [
    "y_test.value_counts()"
   ]
  },
  {
   "cell_type": "code",
   "execution_count": 42,
   "id": "d5cb7c04",
   "metadata": {},
   "outputs": [
    {
     "data": {
      "text/plain": [
       "(4815,)"
      ]
     },
     "execution_count": 42,
     "metadata": {},
     "output_type": "execute_result"
    }
   ],
   "source": [
    "y_test.shape\n",
    "#70-80% of the data is only having y column"
   ]
  },
  {
   "cell_type": "code",
   "execution_count": 43,
   "id": "6e570c59",
   "metadata": {},
   "outputs": [
    {
     "name": "stdout",
     "output_type": "stream",
     "text": [
      "9\n",
      "8\n"
     ]
    }
   ],
   "source": [
    "print(len(X_train.columns))\n",
    "print(len(X_test.columns))"
   ]
  },
  {
   "cell_type": "code",
   "execution_count": 44,
   "id": "26b58050",
   "metadata": {},
   "outputs": [
    {
     "name": "stdout",
     "output_type": "stream",
     "text": [
      "Index(['textID', 'text', 'selected_text', 'Time of Tweet', 'Age of User',\n",
      "       'Country', 'Population -2020', 'Land Area (Km²)', 'Density (P/Km²)'],\n",
      "      dtype='object')\n",
      "Index(['textID', 'text', 'Time of Tweet', 'Age of User', 'Country',\n",
      "       'Population -2020', 'Land Area (Km²)', 'Density (P/Km²)'],\n",
      "      dtype='object')\n"
     ]
    }
   ],
   "source": [
    "print(X_train.columns)\n",
    "print(X_test.columns)"
   ]
  },
  {
   "cell_type": "code",
   "execution_count": 45,
   "id": "7dee7380",
   "metadata": {},
   "outputs": [],
   "source": [
    "# there is no column named as selected_text in the train dataset but that column is not present in test dataset so ideally we should remove that column for the project"
   ]
  },
  {
   "cell_type": "code",
   "execution_count": 46,
   "id": "a0f4b284",
   "metadata": {},
   "outputs": [],
   "source": [
    "#dropping column selected_text\n",
    "X_train.drop([\"selected_text\"],axis=1,inplace=True)"
   ]
  },
  {
   "cell_type": "code",
   "execution_count": 47,
   "id": "625d3cda",
   "metadata": {},
   "outputs": [
    {
     "name": "stdout",
     "output_type": "stream",
     "text": [
      "8\n",
      "8\n"
     ]
    }
   ],
   "source": [
    "print(len(X_train.columns))\n",
    "print(len(X_test.columns))"
   ]
  },
  {
   "cell_type": "code",
   "execution_count": 49,
   "id": "9466fadc",
   "metadata": {},
   "outputs": [
    {
     "name": "stdout",
     "output_type": "stream",
     "text": [
      "27481\n",
      "27481\n"
     ]
    }
   ],
   "source": [
    "print(X_train[\"textID\"].nunique())\n",
    "print(len(X_train[\"textID\"]))\n",
    "# each entry is a unique text id so each comment is unique (good for the model no bias)"
   ]
  },
  {
   "cell_type": "code",
   "execution_count": 50,
   "id": "f731cd58",
   "metadata": {},
   "outputs": [
    {
     "data": {
      "text/html": [
       "<div>\n",
       "<style scoped>\n",
       "    .dataframe tbody tr th:only-of-type {\n",
       "        vertical-align: middle;\n",
       "    }\n",
       "\n",
       "    .dataframe tbody tr th {\n",
       "        vertical-align: top;\n",
       "    }\n",
       "\n",
       "    .dataframe thead th {\n",
       "        text-align: right;\n",
       "    }\n",
       "</style>\n",
       "<table border=\"1\" class=\"dataframe\">\n",
       "  <thead>\n",
       "    <tr style=\"text-align: right;\">\n",
       "      <th></th>\n",
       "      <th>textID</th>\n",
       "      <th>text</th>\n",
       "      <th>Time of Tweet</th>\n",
       "      <th>Age of User</th>\n",
       "      <th>Country</th>\n",
       "      <th>Population -2020</th>\n",
       "      <th>Land Area (Km²)</th>\n",
       "      <th>Density (P/Km²)</th>\n",
       "    </tr>\n",
       "  </thead>\n",
       "  <tbody>\n",
       "    <tr>\n",
       "      <th>0</th>\n",
       "      <td>cb774db0d1</td>\n",
       "      <td>I`d have responded, if I were going</td>\n",
       "      <td>morning</td>\n",
       "      <td>0-20</td>\n",
       "      <td>Afghanistan</td>\n",
       "      <td>38928346</td>\n",
       "      <td>652860.0</td>\n",
       "      <td>60</td>\n",
       "    </tr>\n",
       "    <tr>\n",
       "      <th>1</th>\n",
       "      <td>549e992a42</td>\n",
       "      <td>Sooo SAD I will miss you here in San Diego!!!</td>\n",
       "      <td>noon</td>\n",
       "      <td>21-30</td>\n",
       "      <td>Albania</td>\n",
       "      <td>2877797</td>\n",
       "      <td>27400.0</td>\n",
       "      <td>105</td>\n",
       "    </tr>\n",
       "  </tbody>\n",
       "</table>\n",
       "</div>"
      ],
      "text/plain": [
       "       textID                                            text Time of Tweet  \\\n",
       "0  cb774db0d1             I`d have responded, if I were going       morning   \n",
       "1  549e992a42   Sooo SAD I will miss you here in San Diego!!!          noon   \n",
       "\n",
       "  Age of User      Country  Population -2020  Land Area (Km²)  Density (P/Km²)  \n",
       "0        0-20  Afghanistan          38928346         652860.0               60  \n",
       "1       21-30      Albania           2877797          27400.0              105  "
      ]
     },
     "execution_count": 50,
     "metadata": {},
     "output_type": "execute_result"
    }
   ],
   "source": [
    "X_train.head(2)"
   ]
  },
  {
   "cell_type": "code",
   "execution_count": 52,
   "id": "f0d1a4e6",
   "metadata": {},
   "outputs": [
    {
     "data": {
      "text/plain": [
       "<Axes: >"
      ]
     },
     "execution_count": 52,
     "metadata": {},
     "output_type": "execute_result"
    },
    {
     "data": {
      "image/png": "[encoded data removed]",
      "text/plain": [
       "<Figure size 640x480 with 1 Axes>"
      ]
     },
     "metadata": {},
     "output_type": "display_data"
    }
   ],
   "source": [
    "#NULL Data Check\n",
    "sns.heatmap(X_train.isnull(),yticklabels=False,cbar=False,cmap='viridis')\n",
    "#Fully populated data (hurray!)"
   ]
  },
  {
   "cell_type": "code",
   "execution_count": 53,
   "id": "90450fe5",
   "metadata": {},
   "outputs": [
    {
     "data": {
      "text/plain": [
       "morning    9161\n",
       "noon       9160\n",
       "night      9160\n",
       "Name: Time of Tweet, dtype: int64"
      ]
     },
     "execution_count": 53,
     "metadata": {},
     "output_type": "execute_result"
    }
   ],
   "source": [
    "X_train[\"Time of Tweet\"].value_counts()\n",
    "# equal distribution of tweets in morning, noon and night"
   ]
  },
  {
   "cell_type": "code",
   "execution_count": 54,
   "id": "11a6145c",
   "metadata": {},
   "outputs": [
    {
     "data": {
      "text/plain": [
       "0-20      4581\n",
       "21-30     4580\n",
       "31-45     4580\n",
       "46-60     4580\n",
       "60-70     4580\n",
       "70-100    4580\n",
       "Name: Age of User, dtype: int64"
      ]
     },
     "execution_count": 54,
     "metadata": {},
     "output_type": "execute_result"
    }
   ],
   "source": [
    "X_train[\"Age of User\"].value_counts()\n",
    "# equally distributed in ages"
   ]
  },
  {
   "cell_type": "code",
   "execution_count": 55,
   "id": "a64d92b8",
   "metadata": {},
   "outputs": [
    {
     "data": {
      "text/plain": [
       "Afghanistan                 149\n",
       "Czechia (Czech Republic)    149\n",
       "Egypt                       149\n",
       "Ecuador                     149\n",
       "Dominica                    149\n",
       "                           ... \n",
       "Seychelles                  127\n",
       "Sierra Leone                127\n",
       "Singapore                   127\n",
       "Slovakia                    127\n",
       "Zimbabwe                    127\n",
       "Name: Country, Length: 195, dtype: int64"
      ]
     },
     "execution_count": 55,
     "metadata": {},
     "output_type": "execute_result"
    }
   ],
   "source": [
    "X_train[\"Country\"].value_counts()\n",
    "#almost equally distributed"
   ]
  },
  {
   "cell_type": "code",
   "execution_count": 58,
   "id": "5a331ec3",
   "metadata": {},
   "outputs": [
    {
     "data": {
      "text/plain": [
       "27480"
      ]
     },
     "execution_count": 58,
     "metadata": {},
     "output_type": "execute_result"
    }
   ],
   "source": [
    "#1 Try sentiment analysis on the text column by using Bag of Words representation\n",
    "X_train[\"text\"].count()"
   ]
  },
  {
   "cell_type": "code",
   "execution_count": 61,
   "id": "4acff1a4",
   "metadata": {},
   "outputs": [
    {
     "data": {
      "text/plain": [
       "0                  I`d have responded, if I were going\n",
       "1        Sooo SAD I will miss you here in San Diego!!!\n",
       "2                            my boss is bullying me...\n",
       "3                       what interview! leave me alone\n",
       "4     Sons of ****, why couldn`t they put them on t...\n",
       "5    http://www.dothebouncy.com/smf - some shameles...\n",
       "Name: text, dtype: object"
      ]
     },
     "execution_count": 61,
     "metadata": {},
     "output_type": "execute_result"
    }
   ],
   "source": [
    "X_train[\"text\"].head(6)\n",
    "# the text definitely needs cleaning (some links some * (* does not needs to be removed)), but needs to be cautious because sentiment can be affected by sequence modelling"
   ]
  },
  {
   "cell_type": "code",
   "execution_count": null,
   "id": "b42022ea",
   "metadata": {},
   "outputs": [],
   "source": [
    "# Data_cleaning process"
   ]
  },
  {
   "cell_type": "code",
   "execution_count": 124,
   "id": "523f7cae",
   "metadata": {},
   "outputs": [],
   "source": [
    "def remove_links(text):\n",
    "    text = str(text)  #some entries were not text, so converted them to text\n",
    "    # Define a regular expression pattern to match URLs\n",
    "    url_pattern = r'https?://[^\\s\\n\\r]+'  # this is a particular pattern for removing links in text\\\n",
    "    text_without_links = re.sub(url_pattern, '', text)\n",
    "    text_without_links_v2 = re.sub(r'#', '', text_without_links) # remove hashes \n",
    "    text_without_links_v2 = re.sub(r'\\.{3,}$', '', text_without_links_v2) # remove trailing multiple ....\n",
    "    text_without_links_v2 = text_without_links_v2.strip() # removing trailing and start blanks\n",
    "    text_without_links_v2 = text_without_links_v2.lower() # to remove the additional dimensionality that might come\n",
    "    \n",
    "    return text_without_links_v2"
   ]
  },
  {
   "cell_type": "code",
   "execution_count": 125,
   "id": "1295d0c0",
   "metadata": {},
   "outputs": [],
   "source": [
    "X_train.drop([\"cleaned_text\"],inplace=True, axis =1)"
   ]
  },
  {
   "cell_type": "code",
   "execution_count": 126,
   "id": "0c1a158a",
   "metadata": {},
   "outputs": [],
   "source": [
    "X_train[\"cleaned_text\"] = X_train[\"text\"].apply(lambda x: remove_links(x))"
   ]
  },
  {
   "cell_type": "code",
   "execution_count": 127,
   "id": "8692aaeb",
   "metadata": {},
   "outputs": [
    {
     "data": {
      "text/plain": [
       "0                                           i`d have responded, if i were going\n",
       "1                                 sooo sad i will miss you here in san diego!!!\n",
       "2                                                        my boss is bullying me\n",
       "3                                                what interview! leave me alone\n",
       "4    sons of ****, why couldn`t they put them on the releases we already bought\n",
       "5                 - some shameless plugging for the best rangers forum on earth\n",
       "Name: cleaned_text, dtype: object"
      ]
     },
     "execution_count": 127,
     "metadata": {},
     "output_type": "execute_result"
    }
   ],
   "source": [
    "X_train[\"cleaned_text\"].head(6)"
   ]
  },
  {
   "cell_type": "code",
   "execution_count": 128,
   "id": "de9de5c2",
   "metadata": {},
   "outputs": [],
   "source": [
    "pd.set_option('display.max_colwidth', None)"
   ]
  },
  {
   "cell_type": "code",
   "execution_count": 129,
   "id": "8d0737d8",
   "metadata": {},
   "outputs": [
    {
     "data": {
      "text/plain": [
       "0                                           i`d have responded, if i were going\n",
       "1                                 sooo sad i will miss you here in san diego!!!\n",
       "2                                                        my boss is bullying me\n",
       "3                                                what interview! leave me alone\n",
       "4    sons of ****, why couldn`t they put them on the releases we already bought\n",
       "5                 - some shameless plugging for the best rangers forum on earth\n",
       "Name: cleaned_text, dtype: object"
      ]
     },
     "execution_count": 129,
     "metadata": {},
     "output_type": "execute_result"
    }
   ],
   "source": [
    "X_train[\"cleaned_text\"].head(6)"
   ]
  },
  {
   "cell_type": "code",
   "execution_count": null,
   "id": "da4f62e4",
   "metadata": {},
   "outputs": [],
   "source": []
  }
 ],
 "metadata": {
  "kernelspec": {
   "display_name": "Python 3 (ipykernel)",
   "language": "python",
   "name": "python3"
  },
  "language_info": {
   "codemirror_mode": {
    "name": "ipython",
    "version": 3
   },
   "file_extension": ".py",
   "mimetype": "text/x-python",
   "name": "python",
   "nbconvert_exporter": "python",
   "pygments_lexer": "ipython3",
   "version": "3.8.17"
  }
 },
 "nbformat": 4,
 "nbformat_minor": 5
}
